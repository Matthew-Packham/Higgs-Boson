{
  "cells": [
    {
      "attachments": {},
      "cell_type": "markdown",
      "metadata": {
        "id": "-lPpcckQ9-h_"
      },
      "source": [
        "# Higgs Boson Detection: Comparing Neural Networks"
      ]
    },
    {
      "attachments": {},
      "cell_type": "markdown",
      "metadata": {
        "id": "1wEoCYZk9JiG"
      },
      "source": [
        "In this project I will compare the performances of different 'size' (number of layers and number of units in those layers) Neural Networks. I was inspired to conduct this project after reading the paper: *Baldi, P., Sadowski, P. & Whiteson, D. (2014), \"Searching for Exotic Particles in High-energy Physics with Deep Learning\", Nature Communications* which looked at using a neural network to predict the presence of the Higgs Boson.\n",
        "\n",
        "In the original paper a Deep Neural Network with the following properties was used:\n",
        "- Five layers of $300$ Neurons each.\n",
        "- Learning rate of $0.05$\n",
        "- weight decay coefficient of $1e-5$\n",
        "\n",
        "The original paper used a dataset which contains $2,600,000$ training, $500,000$ testing and $100,000$ validation examples. This dataset is unfortunately unavailable therefore I will use the [HIGGS dataset](https://archive.ics.uci.edu/ml/datasets/HIGGS) from the UCI Machine Learning Repository as an appropriate alternative! This dataset contains kinematic properties measured by the particle detectors in the accelerator, and a binary class label that distinguishes between a signal process which produces Higgs bosons and a background process which does not. I will be working with a small subset consisting of $50,000$ examples of the data in this project.\n",
        "\n",
        "#### Goal of Project.\n",
        "My goal is to compare the performance of a small, medium and paper models at classifying the presence of Higgs Boson. The paper model will follow the same architecture as the original paper. I then Look at improving the performance with regularization.\n",
        "\n",
        "#### Notable Methods\n",
        "- TensorFlow prefetched Dataset objects are utilised for training, testing and validation datasets\n",
        "- Two custom CallBacks are created to print model progress and checkpoint models parameters respectively during training\n",
        "- Results are plotted and evaluated.\n",
        "- Regularization methods are used to combat over fitting including `BatchNormalization` and `Dropout` Layers and `l2` regularizer.\n"
      ]
    },
    {
      "cell_type": "code",
      "execution_count": 1,
      "metadata": {
        "id": "q3Q9eTkqAV2c"
      },
      "outputs": [],
      "source": [
        "import tensorflow as tf\n",
        "import pandas as pd\n",
        "import numpy as np\n",
        "import matplotlib.pyplot as plt"
      ]
    },
    {
      "cell_type": "markdown",
      "metadata": {
        "id": "e12LjX8gF9Tx"
      },
      "source": [
        "### Data\n",
        "\n",
        "I will use a subset, of the orginal Higgs Dataset, which contains 50,000 examples. "
      ]
    },
    {
      "cell_type": "code",
      "execution_count": 6,
      "metadata": {
        "colab": {
          "base_uri": "https://localhost:8080/"
        },
        "id": "7AkonkGq-IQd",
        "outputId": "bc867870-2c84-44a6-9e64-a3631aae2c2c"
      },
      "outputs": [
        {
          "name": "stdout",
          "output_type": "stream",
          "text": [
            "Mounted at /content/drive\n"
          ]
        }
      ],
      "source": [
        "# I created a subset of the Higgs Dataset - which is stored in my google drive\n",
        "from google.colab import drive\n",
        "drive.mount('/content/drive')"
      ]
    },
    {
      "cell_type": "code",
      "execution_count": 7,
      "metadata": {
        "colab": {
          "base_uri": "https://localhost:8080/",
          "height": 299
        },
        "id": "Hwuerx4V_bGe",
        "outputId": "a914d8d0-09a9-4e1b-f86d-1eee28c11950"
      },
      "outputs": [
        {
          "data": {
            "text/html": [
              "\n",
              "  <div id=\"df-97cfd9db-70ab-4a48-9367-978850b8f454\">\n",
              "    <div class=\"colab-df-container\">\n",
              "      <div>\n",
              "<style scoped>\n",
              "    .dataframe tbody tr th:only-of-type {\n",
              "        vertical-align: middle;\n",
              "    }\n",
              "\n",
              "    .dataframe tbody tr th {\n",
              "        vertical-align: top;\n",
              "    }\n",
              "\n",
              "    .dataframe thead th {\n",
              "        text-align: right;\n",
              "    }\n",
              "</style>\n",
              "<table border=\"1\" class=\"dataframe\">\n",
              "  <thead>\n",
              "    <tr style=\"text-align: right;\">\n",
              "      <th></th>\n",
              "      <th>0</th>\n",
              "      <th>1</th>\n",
              "      <th>2</th>\n",
              "      <th>3</th>\n",
              "      <th>4</th>\n",
              "      <th>5</th>\n",
              "      <th>6</th>\n",
              "      <th>7</th>\n",
              "      <th>8</th>\n",
              "      <th>9</th>\n",
              "      <th>...</th>\n",
              "      <th>19</th>\n",
              "      <th>20</th>\n",
              "      <th>21</th>\n",
              "      <th>22</th>\n",
              "      <th>23</th>\n",
              "      <th>24</th>\n",
              "      <th>25</th>\n",
              "      <th>26</th>\n",
              "      <th>27</th>\n",
              "      <th>28</th>\n",
              "    </tr>\n",
              "  </thead>\n",
              "  <tbody>\n",
              "    <tr>\n",
              "      <th>0</th>\n",
              "      <td>0.0</td>\n",
              "      <td>4.140214</td>\n",
              "      <td>-1.309068</td>\n",
              "      <td>1.379247</td>\n",
              "      <td>0.634788</td>\n",
              "      <td>-0.990745</td>\n",
              "      <td>1.584438</td>\n",
              "      <td>1.705151</td>\n",
              "      <td>-0.366938</td>\n",
              "      <td>0.000000</td>\n",
              "      <td>...</td>\n",
              "      <td>-0.510148</td>\n",
              "      <td>1.483119</td>\n",
              "      <td>3.101961</td>\n",
              "      <td>1.964873</td>\n",
              "      <td>1.502018</td>\n",
              "      <td>1.898119</td>\n",
              "      <td>3.104760</td>\n",
              "      <td>2.119824</td>\n",
              "      <td>2.020517</td>\n",
              "      <td>1.767800</td>\n",
              "    </tr>\n",
              "    <tr>\n",
              "      <th>1</th>\n",
              "      <td>0.0</td>\n",
              "      <td>2.264555</td>\n",
              "      <td>-0.137384</td>\n",
              "      <td>1.318212</td>\n",
              "      <td>0.958699</td>\n",
              "      <td>0.928448</td>\n",
              "      <td>0.720491</td>\n",
              "      <td>-1.042737</td>\n",
              "      <td>-0.734492</td>\n",
              "      <td>0.000000</td>\n",
              "      <td>...</td>\n",
              "      <td>-1.279677</td>\n",
              "      <td>-0.085166</td>\n",
              "      <td>0.000000</td>\n",
              "      <td>0.641225</td>\n",
              "      <td>0.732313</td>\n",
              "      <td>0.980272</td>\n",
              "      <td>0.783905</td>\n",
              "      <td>0.359036</td>\n",
              "      <td>0.755468</td>\n",
              "      <td>0.821127</td>\n",
              "    </tr>\n",
              "    <tr>\n",
              "      <th>2</th>\n",
              "      <td>0.0</td>\n",
              "      <td>1.237873</td>\n",
              "      <td>-1.320756</td>\n",
              "      <td>0.829379</td>\n",
              "      <td>0.958321</td>\n",
              "      <td>0.345761</td>\n",
              "      <td>0.533978</td>\n",
              "      <td>-0.460482</td>\n",
              "      <td>-1.585458</td>\n",
              "      <td>0.000000</td>\n",
              "      <td>...</td>\n",
              "      <td>-0.017950</td>\n",
              "      <td>-1.209420</td>\n",
              "      <td>0.000000</td>\n",
              "      <td>0.349277</td>\n",
              "      <td>0.730081</td>\n",
              "      <td>0.982698</td>\n",
              "      <td>0.796364</td>\n",
              "      <td>0.526482</td>\n",
              "      <td>0.835821</td>\n",
              "      <td>0.738029</td>\n",
              "    </tr>\n",
              "    <tr>\n",
              "      <th>3</th>\n",
              "      <td>1.0</td>\n",
              "      <td>0.946706</td>\n",
              "      <td>0.931060</td>\n",
              "      <td>-1.448987</td>\n",
              "      <td>1.006333</td>\n",
              "      <td>0.522835</td>\n",
              "      <td>0.544055</td>\n",
              "      <td>0.670360</td>\n",
              "      <td>-0.966775</td>\n",
              "      <td>1.086538</td>\n",
              "      <td>...</td>\n",
              "      <td>2.101585</td>\n",
              "      <td>-1.334275</td>\n",
              "      <td>0.000000</td>\n",
              "      <td>0.721876</td>\n",
              "      <td>1.044748</td>\n",
              "      <td>1.323438</td>\n",
              "      <td>0.849437</td>\n",
              "      <td>1.200303</td>\n",
              "      <td>0.823593</td>\n",
              "      <td>0.728583</td>\n",
              "    </tr>\n",
              "    <tr>\n",
              "      <th>4</th>\n",
              "      <td>1.0</td>\n",
              "      <td>0.543354</td>\n",
              "      <td>-1.610999</td>\n",
              "      <td>1.420307</td>\n",
              "      <td>1.243565</td>\n",
              "      <td>0.206824</td>\n",
              "      <td>1.282409</td>\n",
              "      <td>-1.036796</td>\n",
              "      <td>1.693223</td>\n",
              "      <td>0.000000</td>\n",
              "      <td>...</td>\n",
              "      <td>1.012252</td>\n",
              "      <td>-0.564612</td>\n",
              "      <td>0.000000</td>\n",
              "      <td>2.463745</td>\n",
              "      <td>1.441290</td>\n",
              "      <td>1.011172</td>\n",
              "      <td>0.895133</td>\n",
              "      <td>1.142160</td>\n",
              "      <td>1.259252</td>\n",
              "      <td>1.135338</td>\n",
              "    </tr>\n",
              "  </tbody>\n",
              "</table>\n",
              "<p>5 rows × 29 columns</p>\n",
              "</div>\n",
              "      <button class=\"colab-df-convert\" onclick=\"convertToInteractive('df-97cfd9db-70ab-4a48-9367-978850b8f454')\"\n",
              "              title=\"Convert this dataframe to an interactive table.\"\n",
              "              style=\"display:none;\">\n",
              "        \n",
              "  <svg xmlns=\"http://www.w3.org/2000/svg\" height=\"24px\"viewBox=\"0 0 24 24\"\n",
              "       width=\"24px\">\n",
              "    <path d=\"M0 0h24v24H0V0z\" fill=\"none\"/>\n",
              "    <path d=\"M18.56 5.44l.94 2.06.94-2.06 2.06-.94-2.06-.94-.94-2.06-.94 2.06-2.06.94zm-11 1L8.5 8.5l.94-2.06 2.06-.94-2.06-.94L8.5 2.5l-.94 2.06-2.06.94zm10 10l.94 2.06.94-2.06 2.06-.94-2.06-.94-.94-2.06-.94 2.06-2.06.94z\"/><path d=\"M17.41 7.96l-1.37-1.37c-.4-.4-.92-.59-1.43-.59-.52 0-1.04.2-1.43.59L10.3 9.45l-7.72 7.72c-.78.78-.78 2.05 0 2.83L4 21.41c.39.39.9.59 1.41.59.51 0 1.02-.2 1.41-.59l7.78-7.78 2.81-2.81c.8-.78.8-2.07 0-2.86zM5.41 20L4 18.59l7.72-7.72 1.47 1.35L5.41 20z\"/>\n",
              "  </svg>\n",
              "      </button>\n",
              "      \n",
              "  <style>\n",
              "    .colab-df-container {\n",
              "      display:flex;\n",
              "      flex-wrap:wrap;\n",
              "      gap: 12px;\n",
              "    }\n",
              "\n",
              "    .colab-df-convert {\n",
              "      background-color: #E8F0FE;\n",
              "      border: none;\n",
              "      border-radius: 50%;\n",
              "      cursor: pointer;\n",
              "      display: none;\n",
              "      fill: #1967D2;\n",
              "      height: 32px;\n",
              "      padding: 0 0 0 0;\n",
              "      width: 32px;\n",
              "    }\n",
              "\n",
              "    .colab-df-convert:hover {\n",
              "      background-color: #E2EBFA;\n",
              "      box-shadow: 0px 1px 2px rgba(60, 64, 67, 0.3), 0px 1px 3px 1px rgba(60, 64, 67, 0.15);\n",
              "      fill: #174EA6;\n",
              "    }\n",
              "\n",
              "    [theme=dark] .colab-df-convert {\n",
              "      background-color: #3B4455;\n",
              "      fill: #D2E3FC;\n",
              "    }\n",
              "\n",
              "    [theme=dark] .colab-df-convert:hover {\n",
              "      background-color: #434B5C;\n",
              "      box-shadow: 0px 1px 3px 1px rgba(0, 0, 0, 0.15);\n",
              "      filter: drop-shadow(0px 1px 2px rgba(0, 0, 0, 0.3));\n",
              "      fill: #FFFFFF;\n",
              "    }\n",
              "  </style>\n",
              "\n",
              "      <script>\n",
              "        const buttonEl =\n",
              "          document.querySelector('#df-97cfd9db-70ab-4a48-9367-978850b8f454 button.colab-df-convert');\n",
              "        buttonEl.style.display =\n",
              "          google.colab.kernel.accessAllowed ? 'block' : 'none';\n",
              "\n",
              "        async function convertToInteractive(key) {\n",
              "          const element = document.querySelector('#df-97cfd9db-70ab-4a48-9367-978850b8f454');\n",
              "          const dataTable =\n",
              "            await google.colab.kernel.invokeFunction('convertToInteractive',\n",
              "                                                     [key], {});\n",
              "          if (!dataTable) return;\n",
              "\n",
              "          const docLinkHtml = 'Like what you see? Visit the ' +\n",
              "            '<a target=\"_blank\" href=https://colab.research.google.com/notebooks/data_table.ipynb>data table notebook</a>'\n",
              "            + ' to learn more about interactive tables.';\n",
              "          element.innerHTML = '';\n",
              "          dataTable['output_type'] = 'display_data';\n",
              "          await google.colab.output.renderOutput(dataTable, element);\n",
              "          const docLink = document.createElement('div');\n",
              "          docLink.innerHTML = docLinkHtml;\n",
              "          element.appendChild(docLink);\n",
              "        }\n",
              "      </script>\n",
              "    </div>\n",
              "  </div>\n",
              "  "
            ],
            "text/plain": [
              "    0         1         2         3         4         5         6         7   \\\n",
              "0  0.0  4.140214 -1.309068  1.379247  0.634788 -0.990745  1.584438  1.705151   \n",
              "1  0.0  2.264555 -0.137384  1.318212  0.958699  0.928448  0.720491 -1.042737   \n",
              "2  0.0  1.237873 -1.320756  0.829379  0.958321  0.345761  0.533978 -0.460482   \n",
              "3  1.0  0.946706  0.931060 -1.448987  1.006333  0.522835  0.544055  0.670360   \n",
              "4  1.0  0.543354 -1.610999  1.420307  1.243565  0.206824  1.282409 -1.036796   \n",
              "\n",
              "         8         9   ...        19        20        21        22        23  \\\n",
              "0 -0.366938  0.000000  ... -0.510148  1.483119  3.101961  1.964873  1.502018   \n",
              "1 -0.734492  0.000000  ... -1.279677 -0.085166  0.000000  0.641225  0.732313   \n",
              "2 -1.585458  0.000000  ... -0.017950 -1.209420  0.000000  0.349277  0.730081   \n",
              "3 -0.966775  1.086538  ...  2.101585 -1.334275  0.000000  0.721876  1.044748   \n",
              "4  1.693223  0.000000  ...  1.012252 -0.564612  0.000000  2.463745  1.441290   \n",
              "\n",
              "         24        25        26        27        28  \n",
              "0  1.898119  3.104760  2.119824  2.020517  1.767800  \n",
              "1  0.980272  0.783905  0.359036  0.755468  0.821127  \n",
              "2  0.982698  0.796364  0.526482  0.835821  0.738029  \n",
              "3  1.323438  0.849437  1.200303  0.823593  0.728583  \n",
              "4  1.011172  0.895133  1.142160  1.259252  1.135338  \n",
              "\n",
              "[5 rows x 29 columns]"
            ]
          },
          "execution_count": 7,
          "metadata": {},
          "output_type": "execute_result"
        }
      ],
      "source": [
        "#load and store data in pd.DataFrame\n",
        "higgs_data_path = '/content/drive/MyDrive/HIGGS-sample-extra.csv'\n",
        "df = pd.read_csv(higgs_data_path, header=None)\n",
        "df.head()"
      ]
    },
    {
      "cell_type": "code",
      "execution_count": 35,
      "metadata": {
        "colab": {
          "base_uri": "https://localhost:8080/"
        },
        "id": "us9zflx4erqH",
        "outputId": "105ffb78-52b0-4cf9-98a8-8d0427093044"
      },
      "outputs": [
        {
          "data": {
            "text/plain": [
              "(50000, 29)"
            ]
          },
          "execution_count": 35,
          "metadata": {},
          "output_type": "execute_result"
        }
      ],
      "source": [
        "df.shape"
      ]
    },
    {
      "cell_type": "code",
      "execution_count": 8,
      "metadata": {
        "id": "896G5epFAivb"
      },
      "outputs": [],
      "source": [
        "def create_dataset(dataframe):\n",
        "  '''\n",
        "  function to \n",
        "  * create train/validation/test splits. in 80/10/10\n",
        "  * ensure dtype is float32\n",
        "  * load splits in tf.data.Dataset objects\n",
        "  return\n",
        "  * (train, validation,test) datsets\n",
        "  '''\n",
        "  #easy enough just need the length of the data frame and split accordingly\n",
        "  num_rows = dataframe.shape[0]\n",
        "  first_split_ind = int(num_rows * 0.8)\n",
        "  second_split_ind = int(num_rows*0.1) + first_split_ind\n",
        "\n",
        "  train_ds = tf.data.Dataset.from_tensor_slices(tf.cast(dataframe[:first_split_ind], 'float32'))\n",
        "  valid_ds = tf.data.Dataset.from_tensor_slices(tf.cast(dataframe[first_split_ind:second_split_ind], 'float32'))\n",
        "  test_ds = tf.data.Dataset.from_tensor_slices(tf.cast(dataframe[second_split_ind:], 'float32'))\n",
        "\n",
        "  return train_ds, valid_ds, test_ds"
      ]
    },
    {
      "cell_type": "code",
      "execution_count": 9,
      "metadata": {
        "colab": {
          "base_uri": "https://localhost:8080/"
        },
        "id": "YlsvaSB6EAme",
        "outputId": "85bc80b7-5d32-433e-e457-f2791b31deab"
      },
      "outputs": [
        {
          "name": "stdout",
          "output_type": "stream",
          "text": [
            "TensorSpec(shape=(29,), dtype=tf.float32, name=None)\n",
            "TensorSpec(shape=(29,), dtype=tf.float32, name=None)\n",
            "TensorSpec(shape=(29,), dtype=tf.float32, name=None)\n"
          ]
        }
      ],
      "source": [
        "train_ds, valid_ds, test_ds = create_dataset(df)\n",
        "\n",
        "print(train_ds.element_spec)\n",
        "print(valid_ds.element_spec)\n",
        "print(test_ds.element_spec)\n"
      ]
    },
    {
      "cell_type": "markdown",
      "metadata": {
        "id": "CmC_UxaZG7Cf"
      },
      "source": [
        "### Pre-Processing\n",
        "\n",
        "the following functions will shuffle and batch the Datasets, and extract the input features and targets. "
      ]
    },
    {
      "cell_type": "code",
      "execution_count": 10,
      "metadata": {
        "id": "Lh2Q4QYkEZLZ"
      },
      "outputs": [],
      "source": [
        "def shuffle_n_batch(dataset, batch_size, shuffle_buffer=None):\n",
        "  'shuffle and batch data based on shuffle_buffer and batch_size'\n",
        "\n",
        "  if shuffle_buffer is not None:\n",
        "        dataset = dataset.shuffle(shuffle_buffer)\n",
        "  dataset = dataset.batch(batch_size)\n",
        "  return dataset"
      ]
    },
    {
      "cell_type": "code",
      "execution_count": 11,
      "metadata": {
        "id": "VBMGOVtlG3I4"
      },
      "outputs": [],
      "source": [
        "def map_dataset(dataset):\n",
        "  \"\"\"\n",
        "  This function is used to map over the Dataset object to extract the input features \n",
        "  and target variable. The function takes a Dataset object, and maps over the \n",
        "  Dataset to create input features and targets\n",
        "  \"\"\"\n",
        "\n",
        "  def extract_feat_n_targ(batch_of_features): #batch_of_features because we have already batched our dataset\n",
        "    #all columns bar the first\n",
        "    features = batch_of_features[..., 1:]\n",
        "    #just the first column\n",
        "    targets = batch_of_features[..., :1]\n",
        "    return features, targets\n",
        "\n",
        "  #tf.data.Dataset objs have a .map method which applies the transformation to each elem (or batch) in dataset\n",
        "  return dataset.map(extract_feat_n_targ)"
      ]
    },
    {
      "cell_type": "code",
      "execution_count": 12,
      "metadata": {
        "colab": {
          "base_uri": "https://localhost:8080/"
        },
        "id": "4ds1I-djJCeH",
        "outputId": "ac343d55-a9c3-420b-fc06-cd8e3143851e"
      },
      "outputs": [
        {
          "name": "stdout",
          "output_type": "stream",
          "text": [
            "<class 'tensorflow.python.data.ops.dataset_ops.MapDataset'>\n"
          ]
        }
      ],
      "source": [
        "#shuffle and batch\n",
        "train_ds = shuffle_n_batch(dataset=train_ds, batch_size=500, shuffle_buffer=1000)\n",
        "valid_ds   = shuffle_n_batch(dataset=valid_ds, batch_size=500, shuffle_buffer=None)\n",
        "test_ds  = shuffle_n_batch(dataset=test_ds, batch_size=500, shuffle_buffer=None)\n",
        "\n",
        "#extract features\n",
        "train_ds = map_dataset(train_ds)\n",
        "valid_ds = map_dataset(valid_ds)\n",
        "test_ds = map_dataset(test_ds)\n",
        "\n",
        "print(type(train_ds))"
      ]
    },
    {
      "cell_type": "code",
      "execution_count": 13,
      "metadata": {
        "id": "ny3KHMZuJ3YO"
      },
      "outputs": [],
      "source": [
        "# Prefetch the Datasets\n",
        "\n",
        "train_ds = train_ds.prefetch(tf.data.experimental.AUTOTUNE)\n",
        "valid_ds = valid_ds.prefetch(tf.data.experimental.AUTOTUNE)\n",
        "test_ds = test_ds.prefetch(tf.data.experimental.AUTOTUNE)"
      ]
    },
    {
      "attachments": {},
      "cell_type": "markdown",
      "metadata": {
        "id": "apRwq7jiLLVR"
      },
      "source": [
        "### Model\n",
        "\n",
        "I want to see the impact of training a small, medium and large model and their effects on accuracy and computational performance.\n",
        "\n",
        "I also am going create a custom callback to save model parameters and to print the progress of training (rather than printing out potentially 2000 epochs)."
      ]
    },
    {
      "cell_type": "code",
      "execution_count": 14,
      "metadata": {
        "colab": {
          "base_uri": "https://localhost:8080/"
        },
        "id": "LL1WP2pALKh1",
        "outputId": "fbf7086f-52d2-4182-8d3f-563fa385dc5e"
      },
      "outputs": [
        {
          "name": "stdout",
          "output_type": "stream",
          "text": [
            "Found GPU at: /device:GPU:0\n"
          ]
        }
      ],
      "source": [
        "#check we are on GPUs\n",
        "\n",
        "device_name = tf.test.gpu_device_name()\n",
        "if device_name != '/device:GPU:0':\n",
        "  raise SystemError('GPU device not found')\n",
        "print('Found GPU at: {}'.format(device_name))"
      ]
    },
    {
      "cell_type": "code",
      "execution_count": 15,
      "metadata": {
        "id": "7nJWNG2DM0Hu"
      },
      "outputs": [],
      "source": [
        "def get_mlp(input_shape, hidden_units):\n",
        "    \"\"\"\n",
        "    This function is used to build the MLP model. It takes \n",
        "    input_shape  | dimemsion of the input\n",
        "    hidden_units | lst containing the number of neurons in each successive Dense layer with 'selu' activation\n",
        "    \"\"\"\n",
        "    inputs = tf.keras.layers.Input(shape=input_shape)\n",
        "    h = inputs\n",
        "    for units in hidden_units:\n",
        "        h = tf.keras.layers.Dense(units, activation='selu')(h)\n",
        "    outputs = tf.keras.layers.Dense(1, activation=None)(h) # no activation - leave as logits\n",
        "    model = tf.keras.models.Model(inputs=inputs, outputs=outputs)\n",
        "    return model"
      ]
    },
    {
      "cell_type": "code",
      "execution_count": 16,
      "metadata": {
        "id": "wasiYrvZOzsZ"
      },
      "outputs": [],
      "source": [
        "def get_compile_and_fit_args():\n",
        "    \"\"\"\n",
        "    This function is used to create the optimizer, loss, metric and callback objects as instances from the corresponding.\n",
        "    \"\"\"\n",
        "    opt = tf.keras.optimizers.Adam(learning_rate=0.0005)\n",
        "    loss = tf.keras.losses.BinaryCrossentropy(from_logits=True)\n",
        "    acc = tf.keras.metrics.BinaryAccuracy()\n",
        "    earlystopping = tf.keras.callbacks.EarlyStopping(patience=50)\n",
        "    return opt, loss, acc, earlystopping"
      ]
    },
    {
      "cell_type": "code",
      "execution_count": 17,
      "metadata": {
        "id": "g5egUjKCQ3EB"
      },
      "outputs": [],
      "source": [
        "# create a custom callback to checkpoint the parameters of the best model during training\n",
        "\n",
        "class CheckpointCall(tf.keras.callbacks.Callback):\n",
        "\n",
        "  def __init__(self, directory):\n",
        "    super(CheckpointCall, self).__init__()\n",
        "    self.directory = directory\n",
        "    #initalise a best validation loss score\n",
        "    self.best_val = tf.Variable(np.inf, trainable=False)\n",
        "  \n",
        "  def set_model(self, model):\n",
        "    self.model = model\n",
        "    self.ckpt = tf.train.Checkpoint(model=self.model)\n",
        "    self.manager = tf.train.CheckpointManager(self.ckpt, self.directory, \n",
        "                                              checkpoint_name='model', max_to_keep=1)\n",
        "  \n",
        "  def on_epoch_end(self, epoch, logs=None):\n",
        "    #get validation loss\n",
        "    validation_loss = logs['val_loss']\n",
        "    #check to see if val_loss is lower the previous best\n",
        "    if validation_loss < self.best_val:\n",
        "      #update best_val\n",
        "      self.best_val = validation_loss\n",
        "      #save to manager\n",
        "      self.manager.save()\n"
      ]
    },
    {
      "cell_type": "code",
      "execution_count": 18,
      "metadata": {
        "id": "zWRqe5o9arTC"
      },
      "outputs": [],
      "source": [
        "class PrintProgress(tf.keras.callbacks.Callback):\n",
        "    \n",
        "    def __init__(self, num_epochs, **kwargs):\n",
        "        \"\"\"\n",
        "        The initializer should call the base class initializer, passing in any \n",
        "        optional keyword arguments passed in\n",
        "        \"\"\"\n",
        "        super(PrintProgress, self).__init__(**kwargs)\n",
        "        self.num_epochs = num_epochs\n",
        "        \n",
        "    def on_epoch_end(self, epoch, logs=None):\n",
        "        if (epoch + 1) % self.num_epochs == 0:\n",
        "            loss_and_metrics = ', '.join(['{}: {:.4f}'.format(k, v) for k, v in logs.items()])\n",
        "            print(\"Epoch: {}, {}\".format(epoch + 1, loss_and_metrics))"
      ]
    },
    {
      "cell_type": "code",
      "execution_count": 19,
      "metadata": {
        "id": "-jE88fQfTneg"
      },
      "outputs": [],
      "source": [
        "def compile_and_fit(model, optimizer, loss, num_epochs, train_dataset, \n",
        "                    validation_dataset=None, metrics=None, callbacks=None):\n",
        "    \"\"\"\n",
        "    This function will compile and fit the model according to the arguments specified.\n",
        "    \"\"\"\n",
        "    model.compile(optimizer=optimizer, loss=loss, metrics=metrics)\n",
        "    history = model.fit(train_dataset, epochs=num_epochs, verbose=0,\n",
        "                        validation_data=validation_dataset, callbacks=callbacks)\n",
        "    return history"
      ]
    },
    {
      "cell_type": "code",
      "execution_count": 20,
      "metadata": {
        "colab": {
          "base_uri": "https://localhost:8080/"
        },
        "id": "PkNZNnB4Q28Q",
        "outputId": "24d434c8-2f19-4c00-fd23-2133524f3826"
      },
      "outputs": [
        {
          "name": "stdout",
          "output_type": "stream",
          "text": [
            "Model: \"model\"\n",
            "_________________________________________________________________\n",
            " Layer (type)                Output Shape              Param #   \n",
            "=================================================================\n",
            " input_1 (InputLayer)        [(None, 28)]              0         \n",
            "                                                                 \n",
            " dense (Dense)               (None, 16)                464       \n",
            "                                                                 \n",
            " dense_1 (Dense)             (None, 16)                272       \n",
            "                                                                 \n",
            " dense_2 (Dense)             (None, 1)                 17        \n",
            "                                                                 \n",
            "=================================================================\n",
            "Total params: 753\n",
            "Trainable params: 753\n",
            "Non-trainable params: 0\n",
            "_________________________________________________________________\n"
          ]
        }
      ],
      "source": [
        "#### get our model ####\n",
        "\n",
        "small_model = get_mlp(input_shape=(28,), hidden_units=[16, 16])\n",
        "small_model.summary()"
      ]
    },
    {
      "cell_type": "code",
      "execution_count": 21,
      "metadata": {
        "colab": {
          "base_uri": "https://localhost:8080/"
        },
        "id": "2brMCGXnUJRe",
        "outputId": "d1170d4c-81ef-495a-9a21-3e82481317c4"
      },
      "outputs": [
        {
          "name": "stdout",
          "output_type": "stream",
          "text": [
            "Epoch: 10, loss: 0.6484, binary_accuracy: 0.5657, val_loss: 0.6478, val_binary_accuracy: 0.5600\n",
            "Epoch: 20, loss: 0.6376, binary_accuracy: 0.5865, val_loss: 0.6383, val_binary_accuracy: 0.5752\n",
            "Epoch: 30, loss: 0.6313, binary_accuracy: 0.5966, val_loss: 0.6329, val_binary_accuracy: 0.5870\n",
            "Epoch: 40, loss: 0.6260, binary_accuracy: 0.6077, val_loss: 0.6282, val_binary_accuracy: 0.5984\n",
            "Epoch: 50, loss: 0.6202, binary_accuracy: 0.6205, val_loss: 0.6236, val_binary_accuracy: 0.6028\n",
            "Epoch: 60, loss: 0.6129, binary_accuracy: 0.6334, val_loss: 0.6168, val_binary_accuracy: 0.6174\n",
            "Epoch: 70, loss: 0.6059, binary_accuracy: 0.6459, val_loss: 0.6116, val_binary_accuracy: 0.6304\n",
            "Epoch: 80, loss: 0.6008, binary_accuracy: 0.6561, val_loss: 0.6079, val_binary_accuracy: 0.6410\n",
            "Epoch: 90, loss: 0.5978, binary_accuracy: 0.6607, val_loss: 0.6055, val_binary_accuracy: 0.6494\n",
            "Epoch: 100, loss: 0.5948, binary_accuracy: 0.6651, val_loss: 0.6046, val_binary_accuracy: 0.6474\n",
            "Epoch: 110, loss: 0.5929, binary_accuracy: 0.6681, val_loss: 0.6027, val_binary_accuracy: 0.6572\n",
            "Epoch: 120, loss: 0.5912, binary_accuracy: 0.6702, val_loss: 0.6025, val_binary_accuracy: 0.6502\n",
            "Epoch: 130, loss: 0.5895, binary_accuracy: 0.6722, val_loss: 0.6009, val_binary_accuracy: 0.6586\n",
            "Epoch: 140, loss: 0.5883, binary_accuracy: 0.6728, val_loss: 0.6003, val_binary_accuracy: 0.6572\n",
            "Epoch: 150, loss: 0.5872, binary_accuracy: 0.6738, val_loss: 0.5999, val_binary_accuracy: 0.6536\n",
            "Epoch: 160, loss: 0.5859, binary_accuracy: 0.6759, val_loss: 0.5987, val_binary_accuracy: 0.6552\n",
            "Epoch: 170, loss: 0.5848, binary_accuracy: 0.6763, val_loss: 0.5976, val_binary_accuracy: 0.6546\n",
            "Epoch: 180, loss: 0.5834, binary_accuracy: 0.6774, val_loss: 0.5963, val_binary_accuracy: 0.6602\n",
            "Epoch: 190, loss: 0.5822, binary_accuracy: 0.6787, val_loss: 0.5954, val_binary_accuracy: 0.6564\n",
            "Epoch: 200, loss: 0.5808, binary_accuracy: 0.6798, val_loss: 0.5941, val_binary_accuracy: 0.6576\n",
            "Epoch: 210, loss: 0.5796, binary_accuracy: 0.6799, val_loss: 0.5932, val_binary_accuracy: 0.6588\n",
            "Epoch: 220, loss: 0.5789, binary_accuracy: 0.6804, val_loss: 0.5923, val_binary_accuracy: 0.6592\n",
            "Epoch: 230, loss: 0.5774, binary_accuracy: 0.6815, val_loss: 0.5907, val_binary_accuracy: 0.6652\n",
            "Epoch: 240, loss: 0.5762, binary_accuracy: 0.6831, val_loss: 0.5897, val_binary_accuracy: 0.6644\n",
            "Epoch: 250, loss: 0.5752, binary_accuracy: 0.6837, val_loss: 0.5891, val_binary_accuracy: 0.6630\n",
            "Epoch: 260, loss: 0.5742, binary_accuracy: 0.6842, val_loss: 0.5877, val_binary_accuracy: 0.6658\n",
            "Epoch: 270, loss: 0.5727, binary_accuracy: 0.6857, val_loss: 0.5868, val_binary_accuracy: 0.6672\n",
            "Epoch: 280, loss: 0.5720, binary_accuracy: 0.6861, val_loss: 0.5862, val_binary_accuracy: 0.6652\n",
            "Epoch: 290, loss: 0.5713, binary_accuracy: 0.6859, val_loss: 0.5861, val_binary_accuracy: 0.6642\n",
            "Epoch: 300, loss: 0.5701, binary_accuracy: 0.6880, val_loss: 0.5846, val_binary_accuracy: 0.6704\n",
            "Epoch: 310, loss: 0.5693, binary_accuracy: 0.6878, val_loss: 0.5845, val_binary_accuracy: 0.6678\n",
            "Epoch: 320, loss: 0.5686, binary_accuracy: 0.6896, val_loss: 0.5837, val_binary_accuracy: 0.6708\n",
            "Epoch: 330, loss: 0.5678, binary_accuracy: 0.6901, val_loss: 0.5832, val_binary_accuracy: 0.6722\n",
            "Epoch: 340, loss: 0.5672, binary_accuracy: 0.6907, val_loss: 0.5825, val_binary_accuracy: 0.6732\n",
            "Epoch: 350, loss: 0.5667, binary_accuracy: 0.6894, val_loss: 0.5819, val_binary_accuracy: 0.6762\n",
            "Epoch: 360, loss: 0.5661, binary_accuracy: 0.6908, val_loss: 0.5817, val_binary_accuracy: 0.6742\n",
            "Epoch: 370, loss: 0.5654, binary_accuracy: 0.6909, val_loss: 0.5808, val_binary_accuracy: 0.6780\n",
            "Epoch: 380, loss: 0.5650, binary_accuracy: 0.6915, val_loss: 0.5802, val_binary_accuracy: 0.6790\n",
            "Epoch: 390, loss: 0.5644, binary_accuracy: 0.6926, val_loss: 0.5796, val_binary_accuracy: 0.6778\n",
            "Epoch: 400, loss: 0.5642, binary_accuracy: 0.6935, val_loss: 0.5792, val_binary_accuracy: 0.6788\n",
            "Epoch: 410, loss: 0.5634, binary_accuracy: 0.6926, val_loss: 0.5790, val_binary_accuracy: 0.6754\n",
            "Epoch: 420, loss: 0.5627, binary_accuracy: 0.6936, val_loss: 0.5780, val_binary_accuracy: 0.6860\n",
            "Epoch: 430, loss: 0.5623, binary_accuracy: 0.6939, val_loss: 0.5776, val_binary_accuracy: 0.6790\n",
            "Epoch: 440, loss: 0.5619, binary_accuracy: 0.6945, val_loss: 0.5774, val_binary_accuracy: 0.6758\n",
            "Epoch: 450, loss: 0.5616, binary_accuracy: 0.6942, val_loss: 0.5768, val_binary_accuracy: 0.6808\n",
            "Epoch: 460, loss: 0.5612, binary_accuracy: 0.6953, val_loss: 0.5764, val_binary_accuracy: 0.6826\n",
            "Epoch: 470, loss: 0.5606, binary_accuracy: 0.6960, val_loss: 0.5764, val_binary_accuracy: 0.6870\n",
            "Epoch: 480, loss: 0.5600, binary_accuracy: 0.6963, val_loss: 0.5759, val_binary_accuracy: 0.6770\n",
            "Epoch: 490, loss: 0.5602, binary_accuracy: 0.6960, val_loss: 0.5752, val_binary_accuracy: 0.6820\n",
            "Epoch: 500, loss: 0.5595, binary_accuracy: 0.6970, val_loss: 0.5751, val_binary_accuracy: 0.6770\n",
            "Epoch: 510, loss: 0.5592, binary_accuracy: 0.6975, val_loss: 0.5744, val_binary_accuracy: 0.6822\n",
            "Epoch: 520, loss: 0.5585, binary_accuracy: 0.6980, val_loss: 0.5740, val_binary_accuracy: 0.6840\n",
            "Epoch: 530, loss: 0.5584, binary_accuracy: 0.6984, val_loss: 0.5737, val_binary_accuracy: 0.6808\n",
            "Epoch: 540, loss: 0.5576, binary_accuracy: 0.6995, val_loss: 0.5733, val_binary_accuracy: 0.6792\n",
            "Epoch: 550, loss: 0.5570, binary_accuracy: 0.6996, val_loss: 0.5728, val_binary_accuracy: 0.6814\n",
            "Epoch: 560, loss: 0.5570, binary_accuracy: 0.6997, val_loss: 0.5724, val_binary_accuracy: 0.6788\n",
            "Epoch: 570, loss: 0.5567, binary_accuracy: 0.6999, val_loss: 0.5720, val_binary_accuracy: 0.6804\n",
            "Epoch: 580, loss: 0.5559, binary_accuracy: 0.6998, val_loss: 0.5717, val_binary_accuracy: 0.6868\n",
            "Epoch: 590, loss: 0.5555, binary_accuracy: 0.7011, val_loss: 0.5712, val_binary_accuracy: 0.6796\n",
            "Epoch: 600, loss: 0.5552, binary_accuracy: 0.7008, val_loss: 0.5709, val_binary_accuracy: 0.6844\n",
            "Epoch: 610, loss: 0.5554, binary_accuracy: 0.7000, val_loss: 0.5702, val_binary_accuracy: 0.6868\n",
            "Epoch: 620, loss: 0.5546, binary_accuracy: 0.7018, val_loss: 0.5702, val_binary_accuracy: 0.6878\n",
            "Epoch: 630, loss: 0.5545, binary_accuracy: 0.7014, val_loss: 0.5699, val_binary_accuracy: 0.6808\n",
            "Epoch: 640, loss: 0.5540, binary_accuracy: 0.7015, val_loss: 0.5698, val_binary_accuracy: 0.6830\n",
            "Epoch: 650, loss: 0.5539, binary_accuracy: 0.7017, val_loss: 0.5694, val_binary_accuracy: 0.6844\n",
            "Epoch: 660, loss: 0.5539, binary_accuracy: 0.7016, val_loss: 0.5691, val_binary_accuracy: 0.6838\n",
            "Epoch: 670, loss: 0.5529, binary_accuracy: 0.7020, val_loss: 0.5688, val_binary_accuracy: 0.6878\n",
            "Epoch: 680, loss: 0.5532, binary_accuracy: 0.7025, val_loss: 0.5689, val_binary_accuracy: 0.6878\n",
            "Epoch: 690, loss: 0.5529, binary_accuracy: 0.7025, val_loss: 0.5687, val_binary_accuracy: 0.6904\n",
            "Epoch: 700, loss: 0.5522, binary_accuracy: 0.7018, val_loss: 0.5680, val_binary_accuracy: 0.6870\n",
            "Epoch: 710, loss: 0.5522, binary_accuracy: 0.7025, val_loss: 0.5679, val_binary_accuracy: 0.6848\n",
            "Epoch: 720, loss: 0.5519, binary_accuracy: 0.7024, val_loss: 0.5676, val_binary_accuracy: 0.6860\n",
            "Epoch: 730, loss: 0.5515, binary_accuracy: 0.7025, val_loss: 0.5676, val_binary_accuracy: 0.6846\n",
            "Epoch: 740, loss: 0.5519, binary_accuracy: 0.7028, val_loss: 0.5675, val_binary_accuracy: 0.6820\n",
            "Epoch: 750, loss: 0.5512, binary_accuracy: 0.7025, val_loss: 0.5674, val_binary_accuracy: 0.6844\n",
            "Epoch: 760, loss: 0.5509, binary_accuracy: 0.7036, val_loss: 0.5674, val_binary_accuracy: 0.6850\n",
            "Epoch: 770, loss: 0.5515, binary_accuracy: 0.7022, val_loss: 0.5671, val_binary_accuracy: 0.6858\n",
            "Epoch: 780, loss: 0.5510, binary_accuracy: 0.7034, val_loss: 0.5669, val_binary_accuracy: 0.6834\n",
            "Epoch: 790, loss: 0.5502, binary_accuracy: 0.7033, val_loss: 0.5674, val_binary_accuracy: 0.6804\n",
            "Epoch: 800, loss: 0.5499, binary_accuracy: 0.7034, val_loss: 0.5667, val_binary_accuracy: 0.6856\n",
            "Epoch: 810, loss: 0.5505, binary_accuracy: 0.7036, val_loss: 0.5667, val_binary_accuracy: 0.6860\n",
            "Epoch: 820, loss: 0.5496, binary_accuracy: 0.7038, val_loss: 0.5666, val_binary_accuracy: 0.6832\n",
            "Epoch: 830, loss: 0.5500, binary_accuracy: 0.7035, val_loss: 0.5663, val_binary_accuracy: 0.6834\n",
            "Epoch: 840, loss: 0.5490, binary_accuracy: 0.7044, val_loss: 0.5662, val_binary_accuracy: 0.6916\n",
            "Epoch: 850, loss: 0.5492, binary_accuracy: 0.7037, val_loss: 0.5663, val_binary_accuracy: 0.6832\n",
            "Epoch: 860, loss: 0.5494, binary_accuracy: 0.7039, val_loss: 0.5662, val_binary_accuracy: 0.6842\n",
            "Epoch: 870, loss: 0.5487, binary_accuracy: 0.7037, val_loss: 0.5657, val_binary_accuracy: 0.6884\n",
            "Epoch: 880, loss: 0.5485, binary_accuracy: 0.7040, val_loss: 0.5657, val_binary_accuracy: 0.6892\n",
            "Epoch: 890, loss: 0.5486, binary_accuracy: 0.7055, val_loss: 0.5657, val_binary_accuracy: 0.6894\n",
            "Epoch: 900, loss: 0.5487, binary_accuracy: 0.7044, val_loss: 0.5656, val_binary_accuracy: 0.6898\n",
            "Epoch: 910, loss: 0.5482, binary_accuracy: 0.7044, val_loss: 0.5654, val_binary_accuracy: 0.6880\n",
            "Epoch: 920, loss: 0.5478, binary_accuracy: 0.7049, val_loss: 0.5657, val_binary_accuracy: 0.6862\n",
            "Epoch: 930, loss: 0.5480, binary_accuracy: 0.7053, val_loss: 0.5656, val_binary_accuracy: 0.6878\n",
            "Epoch: 940, loss: 0.5473, binary_accuracy: 0.7057, val_loss: 0.5654, val_binary_accuracy: 0.6886\n",
            "Epoch: 950, loss: 0.5479, binary_accuracy: 0.7054, val_loss: 0.5653, val_binary_accuracy: 0.6902\n",
            "Epoch: 960, loss: 0.5472, binary_accuracy: 0.7060, val_loss: 0.5652, val_binary_accuracy: 0.6942\n",
            "Epoch: 970, loss: 0.5471, binary_accuracy: 0.7060, val_loss: 0.5651, val_binary_accuracy: 0.6932\n",
            "Epoch: 980, loss: 0.5472, binary_accuracy: 0.7052, val_loss: 0.5650, val_binary_accuracy: 0.6946\n",
            "Epoch: 990, loss: 0.5469, binary_accuracy: 0.7052, val_loss: 0.5650, val_binary_accuracy: 0.6920\n",
            "Epoch: 1000, loss: 0.5466, binary_accuracy: 0.7052, val_loss: 0.5648, val_binary_accuracy: 0.6918\n",
            "Epoch: 1010, loss: 0.5464, binary_accuracy: 0.7061, val_loss: 0.5649, val_binary_accuracy: 0.6886\n",
            "Epoch: 1020, loss: 0.5465, binary_accuracy: 0.7070, val_loss: 0.5648, val_binary_accuracy: 0.6916\n",
            "Epoch: 1030, loss: 0.5462, binary_accuracy: 0.7058, val_loss: 0.5647, val_binary_accuracy: 0.6890\n",
            "Epoch: 1040, loss: 0.5460, binary_accuracy: 0.7060, val_loss: 0.5649, val_binary_accuracy: 0.6914\n",
            "Epoch: 1050, loss: 0.5466, binary_accuracy: 0.7063, val_loss: 0.5644, val_binary_accuracy: 0.6938\n",
            "Epoch: 1060, loss: 0.5459, binary_accuracy: 0.7063, val_loss: 0.5645, val_binary_accuracy: 0.6918\n",
            "Epoch: 1070, loss: 0.5455, binary_accuracy: 0.7067, val_loss: 0.5644, val_binary_accuracy: 0.6920\n",
            "Epoch: 1080, loss: 0.5454, binary_accuracy: 0.7076, val_loss: 0.5646, val_binary_accuracy: 0.6932\n",
            "Epoch: 1090, loss: 0.5460, binary_accuracy: 0.7057, val_loss: 0.5647, val_binary_accuracy: 0.6880\n",
            "Epoch: 1100, loss: 0.5455, binary_accuracy: 0.7067, val_loss: 0.5648, val_binary_accuracy: 0.6892\n",
            "Epoch: 1110, loss: 0.5455, binary_accuracy: 0.7066, val_loss: 0.5646, val_binary_accuracy: 0.6892\n",
            "Epoch: 1120, loss: 0.5453, binary_accuracy: 0.7061, val_loss: 0.5653, val_binary_accuracy: 0.6852\n",
            "Epoch: 1130, loss: 0.5451, binary_accuracy: 0.7070, val_loss: 0.5643, val_binary_accuracy: 0.6910\n",
            "Epoch: 1140, loss: 0.5453, binary_accuracy: 0.7074, val_loss: 0.5642, val_binary_accuracy: 0.6922\n",
            "Epoch: 1150, loss: 0.5448, binary_accuracy: 0.7064, val_loss: 0.5642, val_binary_accuracy: 0.6954\n",
            "Epoch: 1160, loss: 0.5450, binary_accuracy: 0.7068, val_loss: 0.5643, val_binary_accuracy: 0.6940\n",
            "Epoch: 1170, loss: 0.5444, binary_accuracy: 0.7070, val_loss: 0.5647, val_binary_accuracy: 0.6906\n",
            "Epoch: 1180, loss: 0.5445, binary_accuracy: 0.7074, val_loss: 0.5643, val_binary_accuracy: 0.6958\n",
            "Epoch: 1190, loss: 0.5444, binary_accuracy: 0.7071, val_loss: 0.5640, val_binary_accuracy: 0.6954\n",
            "Epoch: 1200, loss: 0.5441, binary_accuracy: 0.7069, val_loss: 0.5642, val_binary_accuracy: 0.6914\n",
            "Epoch: 1210, loss: 0.5442, binary_accuracy: 0.7078, val_loss: 0.5638, val_binary_accuracy: 0.6946\n",
            "Epoch: 1220, loss: 0.5445, binary_accuracy: 0.7074, val_loss: 0.5640, val_binary_accuracy: 0.6956\n",
            "Epoch: 1230, loss: 0.5437, binary_accuracy: 0.7082, val_loss: 0.5644, val_binary_accuracy: 0.6922\n",
            "Epoch: 1240, loss: 0.5440, binary_accuracy: 0.7070, val_loss: 0.5642, val_binary_accuracy: 0.6944\n",
            "Epoch: 1250, loss: 0.5437, binary_accuracy: 0.7078, val_loss: 0.5642, val_binary_accuracy: 0.6906\n",
            "Epoch: 1260, loss: 0.5439, binary_accuracy: 0.7078, val_loss: 0.5642, val_binary_accuracy: 0.6906\n",
            "Epoch: 1270, loss: 0.5438, binary_accuracy: 0.7062, val_loss: 0.5637, val_binary_accuracy: 0.6966\n",
            "Epoch: 1280, loss: 0.5434, binary_accuracy: 0.7083, val_loss: 0.5638, val_binary_accuracy: 0.6934\n",
            "Epoch: 1290, loss: 0.5437, binary_accuracy: 0.7077, val_loss: 0.5641, val_binary_accuracy: 0.6914\n",
            "Epoch: 1300, loss: 0.5432, binary_accuracy: 0.7074, val_loss: 0.5637, val_binary_accuracy: 0.6954\n",
            "Epoch: 1310, loss: 0.5431, binary_accuracy: 0.7078, val_loss: 0.5636, val_binary_accuracy: 0.6974\n",
            "Epoch: 1320, loss: 0.5431, binary_accuracy: 0.7078, val_loss: 0.5633, val_binary_accuracy: 0.7018\n",
            "Epoch: 1330, loss: 0.5427, binary_accuracy: 0.7073, val_loss: 0.5633, val_binary_accuracy: 0.6958\n",
            "Epoch: 1340, loss: 0.5432, binary_accuracy: 0.7085, val_loss: 0.5630, val_binary_accuracy: 0.6966\n",
            "Epoch: 1350, loss: 0.5428, binary_accuracy: 0.7078, val_loss: 0.5634, val_binary_accuracy: 0.6972\n",
            "Epoch: 1360, loss: 0.5427, binary_accuracy: 0.7072, val_loss: 0.5631, val_binary_accuracy: 0.6978\n",
            "Epoch: 1370, loss: 0.5425, binary_accuracy: 0.7085, val_loss: 0.5633, val_binary_accuracy: 0.6954\n",
            "Epoch: 1380, loss: 0.5428, binary_accuracy: 0.7072, val_loss: 0.5632, val_binary_accuracy: 0.6952\n",
            "Epoch: 1390, loss: 0.5419, binary_accuracy: 0.7079, val_loss: 0.5630, val_binary_accuracy: 0.6968\n",
            "Epoch: 1400, loss: 0.5420, binary_accuracy: 0.7085, val_loss: 0.5630, val_binary_accuracy: 0.6986\n",
            "Epoch: 1410, loss: 0.5421, binary_accuracy: 0.7087, val_loss: 0.5627, val_binary_accuracy: 0.6976\n",
            "Epoch: 1420, loss: 0.5420, binary_accuracy: 0.7075, val_loss: 0.5627, val_binary_accuracy: 0.6966\n",
            "Epoch: 1430, loss: 0.5424, binary_accuracy: 0.7078, val_loss: 0.5626, val_binary_accuracy: 0.7020\n",
            "Epoch: 1440, loss: 0.5417, binary_accuracy: 0.7077, val_loss: 0.5625, val_binary_accuracy: 0.6994\n",
            "Epoch: 1450, loss: 0.5421, binary_accuracy: 0.7079, val_loss: 0.5625, val_binary_accuracy: 0.7018\n",
            "Epoch: 1460, loss: 0.5418, binary_accuracy: 0.7085, val_loss: 0.5622, val_binary_accuracy: 0.6988\n",
            "Epoch: 1470, loss: 0.5420, binary_accuracy: 0.7085, val_loss: 0.5625, val_binary_accuracy: 0.6990\n",
            "Epoch: 1480, loss: 0.5413, binary_accuracy: 0.7083, val_loss: 0.5622, val_binary_accuracy: 0.6992\n",
            "Epoch: 1490, loss: 0.5417, binary_accuracy: 0.7082, val_loss: 0.5625, val_binary_accuracy: 0.6938\n",
            "Epoch: 1500, loss: 0.5415, binary_accuracy: 0.7084, val_loss: 0.5623, val_binary_accuracy: 0.6956\n",
            "Epoch: 1510, loss: 0.5415, binary_accuracy: 0.7090, val_loss: 0.5622, val_binary_accuracy: 0.6998\n",
            "Epoch: 1520, loss: 0.5422, binary_accuracy: 0.7075, val_loss: 0.5621, val_binary_accuracy: 0.7004\n",
            "Epoch: 1530, loss: 0.5410, binary_accuracy: 0.7079, val_loss: 0.5618, val_binary_accuracy: 0.7004\n",
            "Epoch: 1540, loss: 0.5414, binary_accuracy: 0.7083, val_loss: 0.5619, val_binary_accuracy: 0.6996\n",
            "Epoch: 1550, loss: 0.5412, binary_accuracy: 0.7073, val_loss: 0.5621, val_binary_accuracy: 0.7002\n",
            "Epoch: 1560, loss: 0.5407, binary_accuracy: 0.7085, val_loss: 0.5623, val_binary_accuracy: 0.6964\n",
            "Epoch: 1570, loss: 0.5411, binary_accuracy: 0.7083, val_loss: 0.5618, val_binary_accuracy: 0.7004\n",
            "Epoch: 1580, loss: 0.5413, binary_accuracy: 0.7077, val_loss: 0.5616, val_binary_accuracy: 0.6990\n",
            "Epoch: 1590, loss: 0.5412, binary_accuracy: 0.7071, val_loss: 0.5617, val_binary_accuracy: 0.7008\n",
            "Epoch: 1600, loss: 0.5411, binary_accuracy: 0.7083, val_loss: 0.5619, val_binary_accuracy: 0.6996\n",
            "Epoch: 1610, loss: 0.5409, binary_accuracy: 0.7084, val_loss: 0.5618, val_binary_accuracy: 0.6990\n",
            "Epoch: 1620, loss: 0.5405, binary_accuracy: 0.7084, val_loss: 0.5614, val_binary_accuracy: 0.7024\n",
            "Epoch: 1630, loss: 0.5412, binary_accuracy: 0.7086, val_loss: 0.5614, val_binary_accuracy: 0.7008\n",
            "Epoch: 1640, loss: 0.5415, binary_accuracy: 0.7077, val_loss: 0.5614, val_binary_accuracy: 0.7032\n",
            "Epoch: 1650, loss: 0.5407, binary_accuracy: 0.7081, val_loss: 0.5614, val_binary_accuracy: 0.7012\n",
            "Epoch: 1660, loss: 0.5403, binary_accuracy: 0.7084, val_loss: 0.5616, val_binary_accuracy: 0.6984\n",
            "Epoch: 1670, loss: 0.5406, binary_accuracy: 0.7091, val_loss: 0.5616, val_binary_accuracy: 0.6986\n",
            "Epoch: 1680, loss: 0.5405, binary_accuracy: 0.7079, val_loss: 0.5613, val_binary_accuracy: 0.7012\n"
          ]
        }
      ],
      "source": [
        "#### get our compile and fit arguments ####\n",
        "adam, bce_loss, bin_acc, early_stopping = get_compile_and_fit_args()\n",
        "\n",
        "#### instantate callback ####\n",
        "ckpt = CheckpointCall(directory = \"./models/small\")\n",
        "print_progress = PrintProgress(num_epochs=10)\n",
        "\n",
        "### compile and fit the model ####\n",
        "small_history = compile_and_fit(small_model, adam, bce_loss, 2000, train_ds, \n",
        "                                validation_dataset=valid_ds, metrics=[bin_acc],\n",
        "                                callbacks=[early_stopping, print_progress, ckpt])"
      ]
    },
    {
      "cell_type": "markdown",
      "metadata": {
        "id": "WwwdLfMucD7R"
      },
      "source": [
        "### Medium Model"
      ]
    },
    {
      "cell_type": "code",
      "execution_count": 22,
      "metadata": {
        "colab": {
          "base_uri": "https://localhost:8080/"
        },
        "id": "ciglZPAncfOI",
        "outputId": "14763910-e841-462f-8c1a-855323a946a0"
      },
      "outputs": [
        {
          "name": "stdout",
          "output_type": "stream",
          "text": [
            "Model: \"model_1\"\n",
            "_________________________________________________________________\n",
            " Layer (type)                Output Shape              Param #   \n",
            "=================================================================\n",
            " input_2 (InputLayer)        [(None, 28)]              0         \n",
            "                                                                 \n",
            " dense_3 (Dense)             (None, 64)                1856      \n",
            "                                                                 \n",
            " dense_4 (Dense)             (None, 64)                4160      \n",
            "                                                                 \n",
            " dense_5 (Dense)             (None, 64)                4160      \n",
            "                                                                 \n",
            " dense_6 (Dense)             (None, 1)                 65        \n",
            "                                                                 \n",
            "=================================================================\n",
            "Total params: 10,241\n",
            "Trainable params: 10,241\n",
            "Non-trainable params: 0\n",
            "_________________________________________________________________\n"
          ]
        }
      ],
      "source": [
        "# Build a medium-sized MLP model\n",
        "\n",
        "medium_model = get_mlp(input_shape=(28,), hidden_units=[64, 64, 64])\n",
        "medium_model.summary()"
      ]
    },
    {
      "cell_type": "code",
      "execution_count": 23,
      "metadata": {
        "colab": {
          "base_uri": "https://localhost:8080/"
        },
        "id": "hIxFmBHdcF8a",
        "outputId": "f92ce11c-2332-42b1-f445-2ba2c9bde7d9"
      },
      "outputs": [
        {
          "name": "stdout",
          "output_type": "stream",
          "text": [
            "Epoch: 10, loss: 0.6026, binary_accuracy: 0.6497, val_loss: 0.6090, val_binary_accuracy: 0.6634\n",
            "Epoch: 20, loss: 0.5830, binary_accuracy: 0.6748, val_loss: 0.5968, val_binary_accuracy: 0.6690\n",
            "Epoch: 30, loss: 0.5723, binary_accuracy: 0.6867, val_loss: 0.5926, val_binary_accuracy: 0.6728\n",
            "Epoch: 40, loss: 0.5651, binary_accuracy: 0.6923, val_loss: 0.5905, val_binary_accuracy: 0.6744\n",
            "Epoch: 50, loss: 0.5572, binary_accuracy: 0.6974, val_loss: 0.5872, val_binary_accuracy: 0.6712\n",
            "Epoch: 60, loss: 0.5516, binary_accuracy: 0.7019, val_loss: 0.5911, val_binary_accuracy: 0.6816\n",
            "Epoch: 70, loss: 0.5464, binary_accuracy: 0.7050, val_loss: 0.5889, val_binary_accuracy: 0.6792\n",
            "Epoch: 80, loss: 0.5414, binary_accuracy: 0.7094, val_loss: 0.5911, val_binary_accuracy: 0.6834\n",
            "Epoch: 90, loss: 0.5370, binary_accuracy: 0.7119, val_loss: 0.5937, val_binary_accuracy: 0.6836\n",
            "Epoch: 100, loss: 0.5328, binary_accuracy: 0.7150, val_loss: 0.5952, val_binary_accuracy: 0.6848\n",
            "Epoch: 110, loss: 0.5283, binary_accuracy: 0.7177, val_loss: 0.5939, val_binary_accuracy: 0.6874\n",
            "Epoch: 120, loss: 0.5250, binary_accuracy: 0.7204, val_loss: 0.5897, val_binary_accuracy: 0.6812\n",
            "Epoch: 130, loss: 0.5226, binary_accuracy: 0.7240, val_loss: 0.5912, val_binary_accuracy: 0.6832\n",
            "Epoch: 140, loss: 0.5184, binary_accuracy: 0.7256, val_loss: 0.5945, val_binary_accuracy: 0.6842\n",
            "Epoch: 150, loss: 0.5172, binary_accuracy: 0.7261, val_loss: 0.5895, val_binary_accuracy: 0.6826\n",
            "Epoch: 160, loss: 0.5132, binary_accuracy: 0.7285, val_loss: 0.5936, val_binary_accuracy: 0.6846\n",
            "Epoch: 170, loss: 0.5093, binary_accuracy: 0.7321, val_loss: 0.5902, val_binary_accuracy: 0.6810\n",
            "Epoch: 180, loss: 0.5074, binary_accuracy: 0.7343, val_loss: 0.5927, val_binary_accuracy: 0.6814\n"
          ]
        }
      ],
      "source": [
        "#### checkpoint callback object for the medium MLP model ####\n",
        "ckpt = CheckpointCall(\"./models/medium\")\n",
        "\n",
        "### compile and fit the model ####\n",
        "medium_history = compile_and_fit(medium_model, adam, bce_loss, 2000, train_ds, \n",
        "                                validation_dataset=valid_ds, metrics=[bin_acc],\n",
        "                                callbacks=[early_stopping, print_progress, ckpt])"
      ]
    },
    {
      "cell_type": "markdown",
      "metadata": {
        "id": "Wel_SsQmf0AE"
      },
      "source": [
        "### Paper Model"
      ]
    },
    {
      "cell_type": "code",
      "execution_count": 24,
      "metadata": {
        "colab": {
          "base_uri": "https://localhost:8080/"
        },
        "id": "QSx1PKWqc5Af",
        "outputId": "f17b9edb-af64-4ab4-e4c3-51777b2ff664"
      },
      "outputs": [
        {
          "name": "stdout",
          "output_type": "stream",
          "text": [
            "Model: \"model_2\"\n",
            "_________________________________________________________________\n",
            " Layer (type)                Output Shape              Param #   \n",
            "=================================================================\n",
            " input_3 (InputLayer)        [(None, 28)]              0         \n",
            "                                                                 \n",
            " dense_7 (Dense)             (None, 300)               8700      \n",
            "                                                                 \n",
            " dense_8 (Dense)             (None, 300)               90300     \n",
            "                                                                 \n",
            " dense_9 (Dense)             (None, 300)               90300     \n",
            "                                                                 \n",
            " dense_10 (Dense)            (None, 300)               90300     \n",
            "                                                                 \n",
            " dense_11 (Dense)            (None, 300)               90300     \n",
            "                                                                 \n",
            " dense_12 (Dense)            (None, 1)                 301       \n",
            "                                                                 \n",
            "=================================================================\n",
            "Total params: 370,201\n",
            "Trainable params: 370,201\n",
            "Non-trainable params: 0\n",
            "_________________________________________________________________\n"
          ]
        }
      ],
      "source": [
        "# Build a medium-sized MLP model\n",
        "\n",
        "paper_model = get_mlp(input_shape=(28,), hidden_units=[300, 300, 300, 300, 300])\n",
        "paper_model.summary()"
      ]
    },
    {
      "cell_type": "code",
      "execution_count": 25,
      "metadata": {
        "colab": {
          "base_uri": "https://localhost:8080/"
        },
        "id": "crEOQ5L3c4K5",
        "outputId": "4fc81ead-d6b7-4055-cb18-df78a966f4b8"
      },
      "outputs": [
        {
          "name": "stdout",
          "output_type": "stream",
          "text": [
            "Epoch: 10, loss: 0.5653, binary_accuracy: 0.6853, val_loss: 0.6046, val_binary_accuracy: 0.6800\n",
            "Epoch: 20, loss: 0.5116, binary_accuracy: 0.7303, val_loss: 0.6012, val_binary_accuracy: 0.6806\n",
            "Epoch: 30, loss: 0.4517, binary_accuracy: 0.7721, val_loss: 0.6231, val_binary_accuracy: 0.6872\n",
            "Epoch: 40, loss: 0.3746, binary_accuracy: 0.8202, val_loss: 0.7016, val_binary_accuracy: 0.6886\n",
            "Epoch: 50, loss: 0.2721, binary_accuracy: 0.8806, val_loss: 0.8035, val_binary_accuracy: 0.6768\n",
            "Epoch: 60, loss: 0.1877, binary_accuracy: 0.9226, val_loss: 1.0316, val_binary_accuracy: 0.6560\n"
          ]
        }
      ],
      "source": [
        "# Create a checkpoint callback object for the large MLP model\n",
        "\n",
        "ckpt = CheckpointCall(\"./models/large\")\n",
        "\n",
        "paper_history = compile_and_fit(paper_model, adam, bce_loss, 2000, train_ds, \n",
        "                                validation_dataset=valid_ds, metrics=[bin_acc],\n",
        "                                callbacks=[early_stopping, print_progress, ckpt])"
      ]
    },
    {
      "cell_type": "markdown",
      "metadata": {
        "id": "TdZ6NTXxd-Kx"
      },
      "source": [
        "## Results"
      ]
    },
    {
      "cell_type": "code",
      "execution_count": 26,
      "metadata": {
        "colab": {
          "base_uri": "https://localhost:8080/",
          "height": 408
        },
        "id": "lONXSJb1eAIT",
        "outputId": "ecde5ca1-bd19-4a5f-aadc-99e837cf705b"
      },
      "outputs": [
        {
          "data": {
            "image/png": "[encoded data removed]",
            "text/plain": [
              "<Figure size 1008x432 with 2 Axes>"
            ]
          },
          "metadata": {
            "needs_background": "light"
          },
          "output_type": "display_data"
        }
      ],
      "source": [
        "fig = plt.figure(figsize=(14, 6))\n",
        "\n",
        "fig.add_subplot(121)\n",
        "plt.plot(small_history.history['loss'], label='small (train)', color='C0', linestyle='-')\n",
        "plt.plot(small_history.history['val_loss'], label='small (valid)', color='C0', linestyle=':')\n",
        "plt.plot(medium_history.history['loss'], label='medium (train)', color='C1', linestyle='-')\n",
        "plt.plot(medium_history.history['val_loss'], label='medium (valid)', color='C1', linestyle=':')\n",
        "plt.plot(paper_history.history['loss'], label='paper (train)', color='C2', linestyle='-')\n",
        "plt.plot(paper_history.history['val_loss'], label='paper (valid)', color='C2', linestyle=':')\n",
        "plt.xscale('log')\n",
        "plt.title(\"Loss vs epochs\")\n",
        "plt.xlabel(\"Epochs\")\n",
        "plt.ylabel(\"Binary cross entropy loss\")\n",
        "plt.legend()\n",
        "\n",
        "fig.add_subplot(122)\n",
        "plt.plot(small_history.history['binary_accuracy'], label='small (train)', color='C0', linestyle='-')\n",
        "plt.plot(small_history.history['val_binary_accuracy'], label='small (valid)', color='C0', linestyle=':')\n",
        "plt.plot(medium_history.history['binary_accuracy'], label='medium (train)', color='C1', linestyle='-')\n",
        "plt.plot(medium_history.history['val_binary_accuracy'], label='medium (valid)', color='C1', linestyle=':')\n",
        "plt.plot(paper_history.history['binary_accuracy'], label='paper (train)', color='C2', linestyle='-')\n",
        "plt.plot(paper_history.history['val_binary_accuracy'], label='paper (valid)', color='C2', linestyle=':')\n",
        "plt.xscale('log')\n",
        "plt.title(\"Binary accuracy vs epochs\")\n",
        "plt.xlabel(\"Epochs\")\n",
        "plt.ylabel(\"Binary accuracy\")\n",
        "plt.legend()\n",
        "\n",
        "plt.show()"
      ]
    },
    {
      "attachments": {},
      "cell_type": "markdown",
      "metadata": {
        "id": "qzYnao5NC-hF"
      },
      "source": [
        "## Regularize the Model\n",
        "\n",
        "There are clear signs of overfitting here - the validation accuracy remains low while the training accuracy countinues to improve. \n",
        "\n",
        "I will therefore regularize my model to help combact this overfitting! I will introduce batch normalization layers (which normalise the batch of inputs to the batch normalization layer - which in turn smooths the terrain of the loss function leading to better stability in the behaviour of the gradients during training. Note: a small regularization affect occurs due to the 'randomness' induced in shuffling the data into batches). I will aslo introduce dropout layers (which randomly 'zero-out' neurons during training which reduces the capacity of the network leading to a regularistion affect. Also Dropout has the important effect of preventing co-adaption between neurons (co-adaption occurs when neurons learn features of the data that are only useful/meaningful in combination with all other features that are learnt. Any neuron in the network is no longer able to depend on any other specific neurons being present, and so each neuron learns features that are more robust, and generalise better). Finally i will add l2 regularization (which adds a sum of squares penelty term to the loss function which discourages the weights becoming too large - preventing domance of certain features) \n"
      ]
    },
    {
      "cell_type": "code",
      "execution_count": 27,
      "metadata": {
        "id": "ftzHjrUQRcg2"
      },
      "outputs": [],
      "source": [
        "def get_regularised_model(input_shape, hidden_units, l2_reg_coeff, dropout_rate):\n",
        "    \"\"\"\n",
        "    function to build regularized model using keras Functional API\n",
        "    \"\"\"\n",
        "    inputs = tf.keras.layers.Input(shape=input_shape)\n",
        "    h = inputs\n",
        "    for units in hidden_units:\n",
        "        h = tf.keras.layers.Dense(units, activation='selu', \n",
        "                                  kernel_regularizer=tf.keras.regularizers.l2(l2_reg_coeff))(h)\n",
        "        h = tf.keras.layers.BatchNormalization()(h)\n",
        "        h = tf.keras.layers.Dropout(dropout_rate)(h)\n",
        "    outputs = tf.keras.layers.Dense(1, activation=None)(h)\n",
        "    model = tf.keras.models.Model(inputs=inputs, outputs=outputs)\n",
        "    return model"
      ]
    },
    {
      "cell_type": "code",
      "execution_count": 28,
      "metadata": {
        "colab": {
          "base_uri": "https://localhost:8080/"
        },
        "id": "R4kpGMMNSzHj",
        "outputId": "125ddb34-3a8a-4155-e092-cbc31d8125bb"
      },
      "outputs": [
        {
          "name": "stdout",
          "output_type": "stream",
          "text": [
            "Model: \"model_3\"\n",
            "_________________________________________________________________\n",
            " Layer (type)                Output Shape              Param #   \n",
            "=================================================================\n",
            " input_4 (InputLayer)        [(None, 28)]              0         \n",
            "                                                                 \n",
            " dense_13 (Dense)            (None, 300)               8700      \n",
            "                                                                 \n",
            " batch_normalization (BatchN  (None, 300)              1200      \n",
            " ormalization)                                                   \n",
            "                                                                 \n",
            " dropout (Dropout)           (None, 300)               0         \n",
            "                                                                 \n",
            " dense_14 (Dense)            (None, 300)               90300     \n",
            "                                                                 \n",
            " batch_normalization_1 (Batc  (None, 300)              1200      \n",
            " hNormalization)                                                 \n",
            "                                                                 \n",
            " dropout_1 (Dropout)         (None, 300)               0         \n",
            "                                                                 \n",
            " dense_15 (Dense)            (None, 300)               90300     \n",
            "                                                                 \n",
            " batch_normalization_2 (Batc  (None, 300)              1200      \n",
            " hNormalization)                                                 \n",
            "                                                                 \n",
            " dropout_2 (Dropout)         (None, 300)               0         \n",
            "                                                                 \n",
            " dense_16 (Dense)            (None, 300)               90300     \n",
            "                                                                 \n",
            " batch_normalization_3 (Batc  (None, 300)              1200      \n",
            " hNormalization)                                                 \n",
            "                                                                 \n",
            " dropout_3 (Dropout)         (None, 300)               0         \n",
            "                                                                 \n",
            " dense_17 (Dense)            (None, 300)               90300     \n",
            "                                                                 \n",
            " batch_normalization_4 (Batc  (None, 300)              1200      \n",
            " hNormalization)                                                 \n",
            "                                                                 \n",
            " dropout_4 (Dropout)         (None, 300)               0         \n",
            "                                                                 \n",
            " dense_18 (Dense)            (None, 1)                 301       \n",
            "                                                                 \n",
            "=================================================================\n",
            "Total params: 376,201\n",
            "Trainable params: 373,201\n",
            "Non-trainable params: 3,000\n",
            "_________________________________________________________________\n"
          ]
        }
      ],
      "source": [
        "model_regularised = get_regularised_model(input_shape=(28,), hidden_units=[300, 300, 300, 300, 300],\n",
        "                                l2_reg_coeff=0.0001, dropout_rate=0.5)\n",
        "model_regularised.summary()"
      ]
    },
    {
      "cell_type": "code",
      "execution_count": 29,
      "metadata": {
        "colab": {
          "base_uri": "https://localhost:8080/"
        },
        "id": "shKApY3cTeZo",
        "outputId": "870320b1-6dbb-4af2-d086-a78030db9914"
      },
      "outputs": [
        {
          "name": "stdout",
          "output_type": "stream",
          "text": [
            "Epoch: 10, loss: 0.7165, binary_accuracy: 0.6258, val_loss: 0.6977, val_binary_accuracy: 0.6554\n",
            "Epoch: 20, loss: 0.6617, binary_accuracy: 0.6550, val_loss: 0.6514, val_binary_accuracy: 0.6544\n",
            "Epoch: 30, loss: 0.6314, binary_accuracy: 0.6654, val_loss: 0.6211, val_binary_accuracy: 0.6646\n",
            "Epoch: 40, loss: 0.6109, binary_accuracy: 0.6711, val_loss: 0.6016, val_binary_accuracy: 0.6676\n",
            "Epoch: 50, loss: 0.6007, binary_accuracy: 0.6755, val_loss: 0.5918, val_binary_accuracy: 0.6824\n",
            "Epoch: 60, loss: 0.5936, binary_accuracy: 0.6806, val_loss: 0.5856, val_binary_accuracy: 0.6842\n",
            "Epoch: 70, loss: 0.5894, binary_accuracy: 0.6811, val_loss: 0.5819, val_binary_accuracy: 0.6772\n",
            "Epoch: 80, loss: 0.5864, binary_accuracy: 0.6838, val_loss: 0.5777, val_binary_accuracy: 0.6798\n",
            "Epoch: 90, loss: 0.5840, binary_accuracy: 0.6878, val_loss: 0.5777, val_binary_accuracy: 0.6844\n",
            "Epoch: 100, loss: 0.5824, binary_accuracy: 0.6870, val_loss: 0.5764, val_binary_accuracy: 0.6860\n",
            "Epoch: 110, loss: 0.5807, binary_accuracy: 0.6891, val_loss: 0.5729, val_binary_accuracy: 0.6940\n",
            "Epoch: 120, loss: 0.5792, binary_accuracy: 0.6892, val_loss: 0.5695, val_binary_accuracy: 0.6894\n",
            "Epoch: 130, loss: 0.5770, binary_accuracy: 0.6935, val_loss: 0.5684, val_binary_accuracy: 0.7012\n",
            "Epoch: 140, loss: 0.5764, binary_accuracy: 0.6932, val_loss: 0.5699, val_binary_accuracy: 0.6964\n",
            "Epoch: 150, loss: 0.5734, binary_accuracy: 0.6974, val_loss: 0.5656, val_binary_accuracy: 0.7064\n",
            "Epoch: 160, loss: 0.5730, binary_accuracy: 0.6960, val_loss: 0.5650, val_binary_accuracy: 0.7032\n",
            "Epoch: 170, loss: 0.5707, binary_accuracy: 0.6981, val_loss: 0.5654, val_binary_accuracy: 0.6960\n",
            "Epoch: 180, loss: 0.5709, binary_accuracy: 0.7003, val_loss: 0.5620, val_binary_accuracy: 0.7044\n",
            "Epoch: 190, loss: 0.5704, binary_accuracy: 0.6983, val_loss: 0.5597, val_binary_accuracy: 0.7034\n",
            "Epoch: 200, loss: 0.5679, binary_accuracy: 0.7013, val_loss: 0.5605, val_binary_accuracy: 0.7114\n",
            "Epoch: 210, loss: 0.5680, binary_accuracy: 0.7011, val_loss: 0.5579, val_binary_accuracy: 0.7110\n",
            "Epoch: 220, loss: 0.5668, binary_accuracy: 0.7053, val_loss: 0.5598, val_binary_accuracy: 0.7150\n",
            "Epoch: 230, loss: 0.5661, binary_accuracy: 0.7038, val_loss: 0.5592, val_binary_accuracy: 0.7116\n",
            "Epoch: 240, loss: 0.5641, binary_accuracy: 0.7060, val_loss: 0.5609, val_binary_accuracy: 0.7128\n",
            "Epoch: 250, loss: 0.5686, binary_accuracy: 0.7007, val_loss: 0.5570, val_binary_accuracy: 0.7090\n",
            "Epoch: 260, loss: 0.5645, binary_accuracy: 0.7066, val_loss: 0.5594, val_binary_accuracy: 0.7084\n",
            "Epoch: 270, loss: 0.5643, binary_accuracy: 0.7064, val_loss: 0.5574, val_binary_accuracy: 0.7146\n",
            "Epoch: 280, loss: 0.5622, binary_accuracy: 0.7054, val_loss: 0.5554, val_binary_accuracy: 0.7148\n",
            "Epoch: 290, loss: 0.5639, binary_accuracy: 0.7063, val_loss: 0.5564, val_binary_accuracy: 0.7118\n",
            "Epoch: 300, loss: 0.5630, binary_accuracy: 0.7085, val_loss: 0.5570, val_binary_accuracy: 0.7118\n",
            "Epoch: 310, loss: 0.5613, binary_accuracy: 0.7068, val_loss: 0.5579, val_binary_accuracy: 0.7106\n",
            "Epoch: 320, loss: 0.5609, binary_accuracy: 0.7077, val_loss: 0.5558, val_binary_accuracy: 0.7076\n",
            "Epoch: 330, loss: 0.5642, binary_accuracy: 0.7076, val_loss: 0.5563, val_binary_accuracy: 0.7156\n",
            "Epoch: 340, loss: 0.5629, binary_accuracy: 0.7071, val_loss: 0.5555, val_binary_accuracy: 0.7194\n",
            "Epoch: 350, loss: 0.5597, binary_accuracy: 0.7081, val_loss: 0.5542, val_binary_accuracy: 0.7136\n",
            "Epoch: 360, loss: 0.5604, binary_accuracy: 0.7089, val_loss: 0.5557, val_binary_accuracy: 0.7128\n",
            "Epoch: 370, loss: 0.5623, binary_accuracy: 0.7090, val_loss: 0.5551, val_binary_accuracy: 0.7144\n",
            "Epoch: 380, loss: 0.5598, binary_accuracy: 0.7108, val_loss: 0.5572, val_binary_accuracy: 0.7074\n",
            "Epoch: 390, loss: 0.5599, binary_accuracy: 0.7103, val_loss: 0.5537, val_binary_accuracy: 0.7176\n",
            "Epoch: 400, loss: 0.5581, binary_accuracy: 0.7115, val_loss: 0.5538, val_binary_accuracy: 0.7150\n"
          ]
        }
      ],
      "source": [
        "#### create checkpoint call back ###\n",
        "ckpt = CheckpointCall(\"./models/huge\")\n",
        "\n",
        "regularised_history = compile_and_fit(model_regularised, adam, bce_loss, 2000, train_ds, \n",
        "                                validation_dataset=valid_ds, metrics=[bin_acc],\n",
        "                                callbacks=[early_stopping, print_progress, ckpt])"
      ]
    },
    {
      "cell_type": "code",
      "execution_count": 30,
      "metadata": {
        "colab": {
          "base_uri": "https://localhost:8080/",
          "height": 462
        },
        "id": "MJjI9zfBUPAJ",
        "outputId": "24d53196-c9e3-4d27-926e-b0ab039709ac"
      },
      "outputs": [
        {
          "data": {
            "image/png": "[encoded data removed]",
            "text/plain": [
              "<Figure size 1008x504 with 2 Axes>"
            ]
          },
          "metadata": {
            "needs_background": "light"
          },
          "output_type": "display_data"
        }
      ],
      "source": [
        "# Plot the performance of the huge model and large regularised model\n",
        "\n",
        "fig = plt.figure(figsize=(14, 7))\n",
        "\n",
        "fig.add_subplot(121)\n",
        "plt.plot(regularised_history.history['loss'], label='reg large (train)', color='C3', linestyle='-')\n",
        "plt.plot(regularised_history.history['val_loss'], label='reg large (valid)', color='C3', linestyle=':')\n",
        "plt.plot(paper_history.history['loss'], label='huge (train)', color='C4', linestyle='-')\n",
        "plt.plot(paper_history.history['val_loss'], label='huge (valid)', color='C4', linestyle=':')\n",
        "plt.xscale('log')\n",
        "plt.title(\"Loss vs epochs\")\n",
        "plt.xlabel(\"Epochs\")\n",
        "plt.ylabel(\"Binary cross entropy loss\")\n",
        "plt.legend()\n",
        "\n",
        "fig.add_subplot(122)\n",
        "plt.plot(regularised_history.history['binary_accuracy'], label='reg large (train)', color='C3', linestyle='-')\n",
        "plt.plot(regularised_history.history['val_binary_accuracy'], label='reg large (valid)', color='C3', linestyle=':')\n",
        "plt.plot(paper_history.history['binary_accuracy'], label='huge (train)', color='C4', linestyle='-')\n",
        "plt.plot(paper_history.history['val_binary_accuracy'], label='huge (valid)', color='C4', linestyle=':')\n",
        "plt.xscale('log')\n",
        "plt.title(\"Binary accuracy vs epochs\")\n",
        "plt.xlabel(\"Epochs\")\n",
        "plt.ylabel(\"Binary accuracy\")\n",
        "plt.legend()\n",
        "\n",
        "plt.show()"
      ]
    },
    {
      "cell_type": "markdown",
      "metadata": {
        "id": "Gx15fLy-XWhx"
      },
      "source": [
        "The effects of regularation are very clear - with both the loss and accuracy on the validation and training datasets moving in parrallel! Our model is therefore robost and generalises well"
      ]
    },
    {
      "cell_type": "code",
      "execution_count": 34,
      "metadata": {
        "colab": {
          "base_uri": "https://localhost:8080/",
          "height": 206
        },
        "id": "TlHhc0UrXmeT",
        "outputId": "7c3748e5-2073-4c95-a97d-0c52c8669ad4"
      },
      "outputs": [
        {
          "data": {
            "text/html": [
              "\n",
              "  <div id=\"df-b669c5d6-2cd4-47bd-854d-54e71f4c1e58\">\n",
              "    <div class=\"colab-df-container\">\n",
              "      <div>\n",
              "<style scoped>\n",
              "    .dataframe tbody tr th:only-of-type {\n",
              "        vertical-align: middle;\n",
              "    }\n",
              "\n",
              "    .dataframe tbody tr th {\n",
              "        vertical-align: top;\n",
              "    }\n",
              "\n",
              "    .dataframe thead th {\n",
              "        text-align: right;\n",
              "    }\n",
              "</style>\n",
              "<table border=\"1\" class=\"dataframe\">\n",
              "  <thead>\n",
              "    <tr style=\"text-align: right;\">\n",
              "      <th></th>\n",
              "      <th>Test loss</th>\n",
              "      <th>Test accuracy</th>\n",
              "    </tr>\n",
              "    <tr>\n",
              "      <th>Model</th>\n",
              "      <th></th>\n",
              "      <th></th>\n",
              "    </tr>\n",
              "  </thead>\n",
              "  <tbody>\n",
              "    <tr>\n",
              "      <th>small</th>\n",
              "      <td>0.574433</td>\n",
              "      <td>0.6874</td>\n",
              "    </tr>\n",
              "    <tr>\n",
              "      <th>medium</th>\n",
              "      <td>0.589756</td>\n",
              "      <td>0.6772</td>\n",
              "    </tr>\n",
              "    <tr>\n",
              "      <th>Paper</th>\n",
              "      <td>0.601072</td>\n",
              "      <td>0.6788</td>\n",
              "    </tr>\n",
              "    <tr>\n",
              "      <th>Paper Regularised</th>\n",
              "      <td>0.558958</td>\n",
              "      <td>0.7156</td>\n",
              "    </tr>\n",
              "  </tbody>\n",
              "</table>\n",
              "</div>\n",
              "      <button class=\"colab-df-convert\" onclick=\"convertToInteractive('df-b669c5d6-2cd4-47bd-854d-54e71f4c1e58')\"\n",
              "              title=\"Convert this dataframe to an interactive table.\"\n",
              "              style=\"display:none;\">\n",
              "        \n",
              "  <svg xmlns=\"http://www.w3.org/2000/svg\" height=\"24px\"viewBox=\"0 0 24 24\"\n",
              "       width=\"24px\">\n",
              "    <path d=\"M0 0h24v24H0V0z\" fill=\"none\"/>\n",
              "    <path d=\"M18.56 5.44l.94 2.06.94-2.06 2.06-.94-2.06-.94-.94-2.06-.94 2.06-2.06.94zm-11 1L8.5 8.5l.94-2.06 2.06-.94-2.06-.94L8.5 2.5l-.94 2.06-2.06.94zm10 10l.94 2.06.94-2.06 2.06-.94-2.06-.94-.94-2.06-.94 2.06-2.06.94z\"/><path d=\"M17.41 7.96l-1.37-1.37c-.4-.4-.92-.59-1.43-.59-.52 0-1.04.2-1.43.59L10.3 9.45l-7.72 7.72c-.78.78-.78 2.05 0 2.83L4 21.41c.39.39.9.59 1.41.59.51 0 1.02-.2 1.41-.59l7.78-7.78 2.81-2.81c.8-.78.8-2.07 0-2.86zM5.41 20L4 18.59l7.72-7.72 1.47 1.35L5.41 20z\"/>\n",
              "  </svg>\n",
              "      </button>\n",
              "      \n",
              "  <style>\n",
              "    .colab-df-container {\n",
              "      display:flex;\n",
              "      flex-wrap:wrap;\n",
              "      gap: 12px;\n",
              "    }\n",
              "\n",
              "    .colab-df-convert {\n",
              "      background-color: #E8F0FE;\n",
              "      border: none;\n",
              "      border-radius: 50%;\n",
              "      cursor: pointer;\n",
              "      display: none;\n",
              "      fill: #1967D2;\n",
              "      height: 32px;\n",
              "      padding: 0 0 0 0;\n",
              "      width: 32px;\n",
              "    }\n",
              "\n",
              "    .colab-df-convert:hover {\n",
              "      background-color: #E2EBFA;\n",
              "      box-shadow: 0px 1px 2px rgba(60, 64, 67, 0.3), 0px 1px 3px 1px rgba(60, 64, 67, 0.15);\n",
              "      fill: #174EA6;\n",
              "    }\n",
              "\n",
              "    [theme=dark] .colab-df-convert {\n",
              "      background-color: #3B4455;\n",
              "      fill: #D2E3FC;\n",
              "    }\n",
              "\n",
              "    [theme=dark] .colab-df-convert:hover {\n",
              "      background-color: #434B5C;\n",
              "      box-shadow: 0px 1px 3px 1px rgba(0, 0, 0, 0.15);\n",
              "      filter: drop-shadow(0px 1px 2px rgba(0, 0, 0, 0.3));\n",
              "      fill: #FFFFFF;\n",
              "    }\n",
              "  </style>\n",
              "\n",
              "      <script>\n",
              "        const buttonEl =\n",
              "          document.querySelector('#df-b669c5d6-2cd4-47bd-854d-54e71f4c1e58 button.colab-df-convert');\n",
              "        buttonEl.style.display =\n",
              "          google.colab.kernel.accessAllowed ? 'block' : 'none';\n",
              "\n",
              "        async function convertToInteractive(key) {\n",
              "          const element = document.querySelector('#df-b669c5d6-2cd4-47bd-854d-54e71f4c1e58');\n",
              "          const dataTable =\n",
              "            await google.colab.kernel.invokeFunction('convertToInteractive',\n",
              "                                                     [key], {});\n",
              "          if (!dataTable) return;\n",
              "\n",
              "          const docLinkHtml = 'Like what you see? Visit the ' +\n",
              "            '<a target=\"_blank\" href=https://colab.research.google.com/notebooks/data_table.ipynb>data table notebook</a>'\n",
              "            + ' to learn more about interactive tables.';\n",
              "          element.innerHTML = '';\n",
              "          dataTable['output_type'] = 'display_data';\n",
              "          await google.colab.output.renderOutput(dataTable, element);\n",
              "          const docLink = document.createElement('div');\n",
              "          docLink.innerHTML = docLinkHtml;\n",
              "          element.appendChild(docLink);\n",
              "        }\n",
              "      </script>\n",
              "    </div>\n",
              "  </div>\n",
              "  "
            ],
            "text/plain": [
              "                   Test loss  Test accuracy\n",
              "Model                                      \n",
              "small               0.574433         0.6874\n",
              "medium              0.589756         0.6772\n",
              "Paper               0.601072         0.6788\n",
              "Paper Regularised   0.558958         0.7156"
            ]
          },
          "execution_count": 34,
          "metadata": {},
          "output_type": "execute_result"
        }
      ],
      "source": [
        "# Collect evaluation loss and metrics for each model\n",
        "\n",
        "\n",
        "saved_models = {\n",
        "    'small': {\"build_fn\": get_mlp, \"args\": {\"input_shape\": (28,), \"hidden_units\": [16, 16]}},\n",
        "    'medium': {\"build_fn\": get_mlp, \"args\": {\"input_shape\": (28,), \"hidden_units\": [64, 64, 64]}},\n",
        "    'large': {\"build_fn\": get_mlp, \"args\": {\"input_shape\": (28,), \"hidden_units\": [300, 300, 300, 300, 300]}},\n",
        "    'huge': {\"build_fn\": get_regularised_model, \"args\": {\n",
        "        \"input_shape\": (28,), \"hidden_units\": [300, 300, 300, 300, 300],\n",
        "        \"l2_reg_coeff\": 0.0001, \"dropout_rate\": 0.5\n",
        "    }},\n",
        "}\n",
        "\n",
        "evaluation = {\"Model\": [], \"Test loss\": [], \"Test accuracy\": []}\n",
        "for model_size, options in saved_models.items():\n",
        "    model = options['build_fn'](**options['args'])\n",
        "    adam, bce_loss, bin_acc, _ = get_compile_and_fit_args()\n",
        "    model.compile(loss=bce_loss, optimizer=adam, metrics=[bin_acc])\n",
        "    status = tf.train.Checkpoint(model=model).restore(tf.train.latest_checkpoint('./models/{}'.format(model_size))).expect_partial()\n",
        "    status.assert_existing_objects_matched()\n",
        "    results = model.evaluate(test_ds, return_dict=True, verbose=0)\n",
        "    evaluation[\"Model\"].append(model_size)\n",
        "    evaluation[\"Test loss\"].append(results['loss'])\n",
        "    evaluation[\"Test accuracy\"].append(results['binary_accuracy'])\n",
        "\n",
        "#save to df   \n",
        "results_df = pd.DataFrame(evaluation)\n",
        "#change model names\n",
        "results_df.at[2, 'Model'] = 'Paper'\n",
        "results_df.at[3, 'Model'] = 'Paper Regularised'\n",
        "results_df.set_index('Model', inplace=True)\n",
        "results_df"
      ]
    },
    {
      "cell_type": "markdown",
      "metadata": {
        "id": "3sC7mMhqaFpN"
      },
      "source": [
        "# Final Thoughts\n",
        "\n",
        "Clearly our results have improved from the small model to the paper regularized model - however the results are relatively poor and accuracy on the test set of 0.7156 isnt that impressive. \n",
        "\n",
        "There are a number of points that could improve the performance:\n",
        "\n",
        "* Fisrtly, using cross validation to obtain the optimal hyper parameters for the model. I this project most of the parameters where chosen through intuition or through those used in the paper. Therefore there should be some improvement by finding the optimal parameters - this includes the number of neurons and hyperparameters such as the learning rate, dropout_rate, l2_reg_coeff, ...\n",
        "\n",
        "* Secondly, using more data, I only used a small subset of the orginal HIGGS dataset. Adding more data will have a profound affect on performance because the model is able to learn the features of the data more accurately and even find new features. Additionally using a small subset has the poteintial of causing the model to be biased towards that subset - this is why we use validation and tests sets, to illistrate overfitting to the training set and hence this same problem could be occuring for the whole subset - prehaps the subset is biased in its recordings and as such adding more data will open the model to new features! More data also allows the model to hone in on the current features it has learnt more accurately, which will improve its robustness and its ability to generalise.\n",
        "\n",
        "\n",
        "\n",
        "\n"
      ]
    },
    {
      "cell_type": "code",
      "execution_count": null,
      "metadata": {
        "id": "cNRqiKaZgILw"
      },
      "outputs": [],
      "source": []
    }
  ],
  "metadata": {
    "accelerator": "GPU",
    "colab": {
      "collapsed_sections": [],
      "provenance": []
    },
    "gpuClass": "standard",
    "kernelspec": {
      "display_name": "conda-env",
      "language": "python",
      "name": "python3"
    },
    "language_info": {
      "codemirror_mode": {
        "name": "ipython",
        "version": 3
      },
      "file_extension": ".py",
      "mimetype": "text/x-python",
      "name": "python",
      "nbconvert_exporter": "python",
      "pygments_lexer": "ipython3",
      "version": "3.8.13"
    },
    "vscode": {
      "interpreter": {
        "hash": "de6f828ac24c6fa8f741bad55bc80d6857431b91674cc62580b77859ff05d97a"
      }
    }
  },
  "nbformat": 4,
  "nbformat_minor": 0
}
